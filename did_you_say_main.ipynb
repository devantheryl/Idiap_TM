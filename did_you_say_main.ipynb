{
 "cells": [
  {
   "cell_type": "code",
   "execution_count": 1,
   "metadata": {},
   "outputs": [],
   "source": [
    "import numpy as np\n",
    "import pandas as pd \n",
    "from importlib import reload\n",
    "%matplotlib inline\n",
    "import matplotlib.pyplot as plt\n",
    "import matplotlib as mpl\n",
    "import networkx as nx \n",
    "import json\n",
    "import random \n",
    "import time\n",
    "\n",
    "from src.Machine import Machine\n",
    "from src.Job import Job\n",
    "from src.Operation import Operation\n",
    "from src.Agent import Agent\n",
    "from src.Production_line import Production_line\n",
    "\n",
    "def dsp(data, rows=10, columns=None):\n",
    "    \n",
    "    pd.options.display.max_rows = rows\n",
    "    pd.options.display.max_columns = columns\n",
    "\n",
    "    display(data)\n",
    "\n",
    "    pd.options.display.max_rows = 15\n",
    "    pd.options.display.max_columns = 20"
   ]
  },
  {
   "cell_type": "code",
   "execution_count": 2,
   "metadata": {},
   "outputs": [
    {
     "name": "stdout",
     "output_type": "stream",
     "text": [
      "238\n"
     ]
    },
    {
     "data": {
      "text/plain": [
       "False"
      ]
     },
     "execution_count": 2,
     "metadata": {},
     "output_type": "execute_result"
    }
   ],
   "source": [
    "prod_line = Production_line()\n",
    "print(len(prod_line.create_action_space(14)))\n",
    "agent = Agent(prod_line)\n",
    "job1 = Job(\"TEST1\", 1,20000)\n",
    "job2 = Job(\"TEST2\", 1,20000)\n",
    "job3 = Job(\"TEST3\", 1,20000)\n",
    "job4 = Job(\"TEST4\", 1,20000)\n",
    "job5 = Job(\"TEST5\", 1,20000)\n",
    "job6 = Job(\"TEST6\", 1,20000)\n",
    "job7 = Job(\"TEST7\", 1,20000)\n",
    "job8 = Job(\"TEST8\", 1,20000)\n",
    "job9 = Job(\"TEST9\", 1,20000)\n",
    "job10 = Job(\"TEST10\", 1,20000)\n",
    "job11 = Job(\"TEST11\", 1,20000)\n",
    "job12 = Job(\"TEST12\", 1,20000)\n",
    "job13 = Job(\"TEST13\", 1,20000)\n",
    "job14 = Job(\"TEST14\", 1,20000)\n",
    "\n",
    "prod_line.add_job(job1)\n",
    "prod_line.add_job(job2)\n",
    "prod_line.add_job(job3)\n",
    "prod_line.add_job(job4)\n",
    "prod_line.add_job(job5)\n",
    "prod_line.add_job(job6)\n",
    "prod_line.add_job(job7)\n",
    "prod_line.add_job(job8)\n",
    "prod_line.add_job(job9)\n",
    "prod_line.add_job(job10)\n",
    "prod_line.add_job(job11)\n",
    "prod_line.add_job(job12)\n",
    "prod_line.add_job(job13)\n",
    "prod_line.add_job(job14)\n"
   ]
  },
  {
   "cell_type": "markdown",
   "metadata": {},
   "source": [
    "**to measure the execution time**"
   ]
  },
  {
   "cell_type": "code",
   "execution_count": 3,
   "metadata": {},
   "outputs": [
    {
     "name": "stdout",
     "output_type": "stream",
     "text": [
      "It took 4.388093948364258e-05 seconds.\n",
      "It took 7.287192344665527e-05 seconds.\n"
     ]
    }
   ],
   "source": [
    "nbr = 1000\n",
    "\n",
    "start = time.time()\n",
    "for _ in range(nbr):\n",
    "    agent.get_available_operation()\n",
    "    \n",
    "print('It took', (time.time()-start)/nbr, 'seconds.')\n",
    "\n",
    "\n",
    "start = time.time()\n",
    "for _ in range(nbr):\n",
    "    agent.get_available_actions()\n",
    "    \n",
    "print('It took', (time.time()-start)/nbr, 'seconds.')\n",
    "\n"
   ]
  },
  {
   "cell_type": "code",
   "execution_count": null,
   "metadata": {
    "scrolled": true
   },
   "outputs": [],
   "source": [
    "start = time.time()\n",
    "nbr = 1000\n",
    "for i in range(nbr):\n",
    "    agent.take_decision()\n",
    "print('It took', (time.time()-start)/nbr, 'seconds.')\n",
    "\n",
    "start = time.time()\n",
    "agent.write_db('test.csv')\n",
    "print('It took', (time.time()-start)/nbr, 'seconds.')"
   ]
  },
  {
   "cell_type": "code",
   "execution_count": null,
   "metadata": {
    "scrolled": true
   },
   "outputs": [],
   "source": [
    "planning = prod_line.get_gant_formated()\n",
    "\n",
    "plan_df = pd.DataFrame()\n",
    "for plan in planning:\n",
    "    print(plan,\"\\n\")\n",
    "    df = pd.DataFrame(plan, columns =['Job','Machine', 'Operation', 'Start','Duration','Finish'])\n",
    "    plan_df = pd.concat([plan_df, df], axis=0)\n",
    "\n",
    "plan_df.reset_index(drop = True,inplace=True)\n",
    "\n",
    "plan_df['Machine']= plan_df['Machine'].astype(str)\n",
    "plan_df['Duration']= plan_df['Duration'].astype(int)\n",
    "\n",
    "\n",
    "\n",
    "\n",
    "    \n",
    "print(plan_df.dtypes)\n",
    "print(plan_df)\n",
    "\n"
   ]
  },
  {
   "cell_type": "code",
   "execution_count": null,
   "metadata": {},
   "outputs": [],
   "source": [
    "def visualize(results):\n",
    "    \n",
    "    operation_machine = {(1,1) : \"broyage_poly_1\",\n",
    "                     (1,2) : \"broyage_poly_2\",\n",
    "                     (2,3) : \"tamisage_poly_3\",\n",
    "                     (3,4) : \"mélange_4\",\n",
    "                     (3,5) : \"mélange_5\",\n",
    "                     (4,6) : \"extrusion_6\",\n",
    "                     (5,1) : \"broyage_ug_1\",\n",
    "                     (5,2) : \"broyage_ug_2\",\n",
    "                     (6,3) : \"tamisage_ug_3\",\n",
    "                     (7,8) : \"tween_8\",\n",
    "                     (8,7) : \"combinaison_7\",\n",
    "                     (9,9) : \"perry_9\",\n",
    "                     (10,10) : \"sortie_lyo_10\",\n",
    "                     (11,11) : \"capsulage_11\",\n",
    "                     (12,12) : \"IV_12\",\n",
    "                     (13,13) : \"envoi IRR_13\",\n",
    "                     (14,14) : \"retour IRR_14\"}\n",
    "    \n",
    "    schedule = results.copy()\n",
    "    \n",
    "    op_machine = []\n",
    "    for row in schedule.iterrows():\n",
    "        \n",
    "        op = row[1][\"Operation\"]\n",
    "        machine = row[1][\"Machine\"]\n",
    "        op_machine.append(operation_machine[int(op),int(machine)])\n",
    "    \n",
    "    schedule[\"op_machine\"] = op_machine\n",
    "    \n",
    "    JOBS = sorted(list(schedule['Job'].unique()))\n",
    "    operation_machine_sorted = [value for key,value in operation_machine.items()][::-1]\n",
    "    MACHINES = operation_machine_sorted\n",
    "    makespan = schedule['Finish'].max()\n",
    "    \n",
    "    bar_style = {'alpha':1.0, 'lw':25, 'solid_capstyle':'butt'}\n",
    "    text_style = {'color':'white', 'weight':'bold', 'ha':'center', 'va':'center'}\n",
    "    colors = mpl.cm.Dark2.colors\n",
    "\n",
    "    schedule.sort_values(by=['Job', 'Start'])\n",
    "    schedule.set_index(['Job', 'op_machine'], inplace=True,append = True)\n",
    "    \n",
    "    fig, ax = plt.subplots(2,1, figsize=(12, 5+(len(JOBS)+len(MACHINES))/4))\n",
    "\n",
    "    for jdx, j in enumerate(JOBS, 1):\n",
    "        for mdx, m in enumerate(MACHINES, 1):\n",
    "            for index,_,_ in schedule.index:\n",
    "                if (index,j,m) in schedule.index:\n",
    "                    \n",
    "\n",
    "                    xs = schedule.loc[(index,j,m), 'Start']\n",
    "                    xf = schedule.loc[(index,j,m), 'Finish']\n",
    "                    ax[0].plot([xs, xf], [jdx]*2, c=colors[mdx%7], **bar_style)\n",
    "                    ax[0].text((xs + xf)/2, jdx, m, **text_style)\n",
    "                    ax[1].plot([xs, xf], [mdx]*2, c=colors[jdx%7], **bar_style)\n",
    "                    ax[1].text((xs + xf)/2, mdx, j, **text_style)\n",
    "                \n",
    "    ax[0].set_title('Job Schedule')\n",
    "    ax[0].set_ylabel('Job')\n",
    "    ax[1].set_title('Machine Schedule')\n",
    "    ax[1].set_ylabel('Machine')\n",
    "    \n",
    "    for idx, s in enumerate([JOBS, MACHINES]):\n",
    "        ax[idx].set_ylim(0.5, len(s) + 0.5)\n",
    "        ax[idx].set_yticks(range(1, 1 + len(s)))\n",
    "        ax[idx].set_yticklabels(s)\n",
    "        ax[idx].text(makespan, ax[idx].get_ylim()[0]-0.2, \"{0:0.1f}\".format(makespan), ha='center', va='top')\n",
    "        ax[idx].plot([makespan]*2, ax[idx].get_ylim(), 'r--')\n",
    "        ax[idx].set_xlabel('Time')\n",
    "        ax[idx].grid(True)\n",
    "        \n",
    "    fig.tight_layout()\n",
    "    \n",
    "visualize(plan_df)"
   ]
  },
  {
   "cell_type": "code",
   "execution_count": null,
   "metadata": {},
   "outputs": [],
   "source": []
  }
 ],
 "metadata": {
  "kernelspec": {
   "display_name": "Python 3",
   "language": "python",
   "name": "python3"
  },
  "language_info": {
   "codemirror_mode": {
    "name": "ipython",
    "version": 3
   },
   "file_extension": ".py",
   "mimetype": "text/x-python",
   "name": "python",
   "nbconvert_exporter": "python",
   "pygments_lexer": "ipython3",
   "version": "3.8.5"
  }
 },
 "nbformat": 4,
 "nbformat_minor": 4
}
