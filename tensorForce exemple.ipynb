{
 "cells": [
  {
   "cell_type": "code",
   "execution_count": null,
   "metadata": {},
   "outputs": [
    {
     "name": "stderr",
     "output_type": "stream",
     "text": [
      "C:\\ProgramData\\Anaconda3\\lib\\site-packages\\gym\\envs\\atari\\environment.py:255: UserWarning: \u001b[33mWARN: We strongly suggest supplying `render_mode` when constructing your environment, e.g., gym.make(ID, render_mode='human'). Using `render_mode` provides access to proper scaling, audio support, and proper framerates.\u001b[0m\n",
      "  logger.warn(\n"
     ]
    },
    {
     "name": "stdout",
     "output_type": "stream",
     "text": [
      "Episode 0: 0.0\n"
     ]
    }
   ],
   "source": [
    "#use activate tensorforceEnv\n",
    "from ale_py import ALEInterface\n",
    "\n",
    "ale = ALEInterface()\n",
    "\n",
    "from ale_py.roms import Breakout\n",
    "\n",
    "ale.loadROM(Breakout)\n",
    "\n",
    "\n",
    "from tensorforce import Agent, Environment\n",
    "\n",
    "import gym\n",
    "from gym import wrappers\n",
    "\n",
    "def main():\n",
    "\n",
    "    # PPO agent specification\n",
    "    env = gym.make('ALE/Breakout-v5',render_mode='human')\n",
    "    env = wrappers.Monitor(env, 'tmp', force=True)\n",
    "    environment = Environment.create(environment=env, max_episode_timesteps=500)\n",
    "    \n",
    "    agent = Agent.create(\n",
    "        agent='ddqn',\n",
    "        environment=environment,  # alternatively: states, actions, (max_episode_timesteps)\n",
    "        memory=10000,\n",
    "        batch_size = 128,\n",
    "        horizon = 40,\n",
    "        discount = 0.99\n",
    "        \n",
    "        \n",
    "    )\n",
    "    \n",
    "    \n",
    "    \n",
    "    # Train for 100 episodes\n",
    "    for episode in range(1000):\n",
    "\n",
    "        # Record episode experience\n",
    "        episode_states = list()\n",
    "        episode_internals = list()\n",
    "        episode_actions = list()\n",
    "        episode_terminal = list()\n",
    "        episode_reward = list()\n",
    "\n",
    "        # Episode using independent-act and agent.intial_internals()\n",
    "        states = environment.reset()\n",
    "        internals = agent.initial_internals()\n",
    "        terminal = False\n",
    "        sum_rewards = 0.0\n",
    "        while not terminal:\n",
    "\n",
    "            actions = agent.act(states=states)\n",
    "            \n",
    "            states, terminal, reward = environment.execute(actions=actions)\n",
    "            agent.observe(terminal=terminal, reward=reward)\n",
    "            env.render()\n",
    "            sum_rewards += reward\n",
    "        print('Episode {}: {}'.format(episode, sum_rewards))\n",
    "\n",
    "        \n",
    "\n",
    "    # Evaluate for 100 episodes\n",
    "    sum_rewards = 0.0\n",
    "    for _ in range(100):\n",
    "        states = environment.reset()\n",
    "        internals = agent.initial_internals()\n",
    "        terminal = False\n",
    "        while not terminal:\n",
    "            actions, internals = agent.act(\n",
    "                states=states, internals=internals, independent=True, deterministic=True\n",
    "            )\n",
    "            states, terminal, reward = environment.execute(actions=actions)\n",
    "            env.render()\n",
    "            sum_rewards += reward\n",
    "    print('Mean evaluation return:', sum_rewards / 100.0)\n",
    "\n",
    "    # Close agent and environment\n",
    "    agent.close()\n",
    "    environment.close()\n",
    "    \n",
    "    \n",
    "\n",
    "if __name__ == '__main__':\n",
    "    main()"
   ]
  }
 ],
 "metadata": {
  "kernelspec": {
   "display_name": "Python 3",
   "language": "python",
   "name": "python3"
  },
  "language_info": {
   "codemirror_mode": {
    "name": "ipython",
    "version": 3
   },
   "file_extension": ".py",
   "mimetype": "text/x-python",
   "name": "python",
   "nbconvert_exporter": "python",
   "pygments_lexer": "ipython3",
   "version": "3.8.5"
  }
 },
 "nbformat": 4,
 "nbformat_minor": 4
}
